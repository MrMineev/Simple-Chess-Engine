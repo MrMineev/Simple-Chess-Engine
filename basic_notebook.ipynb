{
 "cells": [
  {
   "cell_type": "code",
   "execution_count": 1,
   "metadata": {},
   "outputs": [],
   "source": [
    "# requirements\n",
    "from evaluate import golden_evaluation as eval\n",
    "from search import get_best_move\n",
    "import chess\n",
    "import random\n",
    "from display import print_board"
   ]
  },
  {
   "cell_type": "code",
   "execution_count": 19,
   "metadata": {},
   "outputs": [
    {
     "ename": "ValueError",
     "evalue": "expected 8 rows in position part of fen: '1p1p2Q1/2pNpp1p/2P5/3P1P2/4PK2/7q'",
     "output_type": "error",
     "traceback": [
      "\u001b[0;31m---------------------------------------------------------------------------\u001b[0m",
      "\u001b[0;31mValueError\u001b[0m                                Traceback (most recent call last)",
      "Cell \u001b[0;32mIn[19], line 1\u001b[0m\n\u001b[0;32m----> 1\u001b[0m board \u001b[39m=\u001b[39m chess\u001b[39m.\u001b[39;49mBoard(\u001b[39m\"\u001b[39;49m\u001b[39m1p1p2Q1/2pNpp1p/2P5/3P1P2/4PK2/7q b ha - 0 1\u001b[39;49m\u001b[39m\"\u001b[39;49m)\n\u001b[1;32m      2\u001b[0m print_board(board)\n\u001b[1;32m      3\u001b[0m move, score \u001b[39m=\u001b[39m get_best_move(board, \u001b[39m4\u001b[39m, opening\u001b[39m=\u001b[39m\u001b[39mFalse\u001b[39;00m)\n",
      "File \u001b[0;32m/Library/Frameworks/Python.framework/Versions/3.11/lib/python3.11/site-packages/chess/__init__.py:1556\u001b[0m, in \u001b[0;36mBoard.__init__\u001b[0;34m(self, fen, chess960)\u001b[0m\n\u001b[1;32m   1554\u001b[0m     \u001b[39mself\u001b[39m\u001b[39m.\u001b[39mreset()\n\u001b[1;32m   1555\u001b[0m \u001b[39melse\u001b[39;00m:\n\u001b[0;32m-> 1556\u001b[0m     \u001b[39mself\u001b[39;49m\u001b[39m.\u001b[39;49mset_fen(fen)\n",
      "File \u001b[0;32m/Library/Frameworks/Python.framework/Versions/3.11/lib/python3.11/site-packages/chess/__init__.py:2494\u001b[0m, in \u001b[0;36mBoard.set_fen\u001b[0;34m(self, fen)\u001b[0m\n\u001b[1;32m   2491\u001b[0m     \u001b[39mraise\u001b[39;00m \u001b[39mValueError\u001b[39;00m(\u001b[39mf\u001b[39m\u001b[39m\"\u001b[39m\u001b[39mfen string has more parts than expected: \u001b[39m\u001b[39m{\u001b[39;00mfen\u001b[39m!r}\u001b[39;00m\u001b[39m\"\u001b[39m)\n\u001b[1;32m   2493\u001b[0m \u001b[39m# Validate the board part and set it.\u001b[39;00m\n\u001b[0;32m-> 2494\u001b[0m \u001b[39mself\u001b[39;49m\u001b[39m.\u001b[39;49m_set_board_fen(board_part)\n\u001b[1;32m   2496\u001b[0m \u001b[39m# Apply.\u001b[39;00m\n\u001b[1;32m   2497\u001b[0m \u001b[39mself\u001b[39m\u001b[39m.\u001b[39mturn \u001b[39m=\u001b[39m turn\n",
      "File \u001b[0;32m/Library/Frameworks/Python.framework/Versions/3.11/lib/python3.11/site-packages/chess/__init__.py:977\u001b[0m, in \u001b[0;36mBaseBoard._set_board_fen\u001b[0;34m(self, fen)\u001b[0m\n\u001b[1;32m    975\u001b[0m rows \u001b[39m=\u001b[39m fen\u001b[39m.\u001b[39msplit(\u001b[39m\"\u001b[39m\u001b[39m/\u001b[39m\u001b[39m\"\u001b[39m)\n\u001b[1;32m    976\u001b[0m \u001b[39mif\u001b[39;00m \u001b[39mlen\u001b[39m(rows) \u001b[39m!=\u001b[39m \u001b[39m8\u001b[39m:\n\u001b[0;32m--> 977\u001b[0m     \u001b[39mraise\u001b[39;00m \u001b[39mValueError\u001b[39;00m(\u001b[39mf\u001b[39m\u001b[39m\"\u001b[39m\u001b[39mexpected 8 rows in position part of fen: \u001b[39m\u001b[39m{\u001b[39;00mfen\u001b[39m!r}\u001b[39;00m\u001b[39m\"\u001b[39m)\n\u001b[1;32m    979\u001b[0m \u001b[39m# Validate each row.\u001b[39;00m\n\u001b[1;32m    980\u001b[0m \u001b[39mfor\u001b[39;00m row \u001b[39min\u001b[39;00m rows:\n",
      "\u001b[0;31mValueError\u001b[0m: expected 8 rows in position part of fen: '1p1p2Q1/2pNpp1p/2P5/3P1P2/4PK2/7q'"
     ]
    }
   ],
   "source": [
    "board = chess.Board(\"1p1p2Q1/2pNpp1p/2P5/3P1P2/4PK2/7q b ha - 0 1\")\n",
    "print_board(board)\n",
    "move, score = get_best_move(board, 4, opening=False)\n",
    "board.push(move)\n",
    "print_board(board)"
   ]
  }
 ],
 "metadata": {
  "kernelspec": {
   "display_name": "Python 3",
   "language": "python",
   "name": "python3"
  },
  "language_info": {
   "codemirror_mode": {
    "name": "ipython",
    "version": 3
   },
   "file_extension": ".py",
   "mimetype": "text/x-python",
   "name": "python",
   "nbconvert_exporter": "python",
   "pygments_lexer": "ipython3",
   "version": "3.11.0"
  },
  "orig_nbformat": 4
 },
 "nbformat": 4,
 "nbformat_minor": 2
}
